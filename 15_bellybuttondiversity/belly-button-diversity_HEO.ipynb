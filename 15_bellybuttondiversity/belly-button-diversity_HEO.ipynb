{
 "cells": [
  {
   "cell_type": "code",
   "execution_count": 14,
   "metadata": {},
   "outputs": [],
   "source": [
    "#Import Dependencies\n",
    "import pandas as pd\n",
    "import numpy as np\n",
    "import configparser"
   ]
  },
  {
   "cell_type": "code",
   "execution_count": 15,
   "metadata": {},
   "outputs": [
    {
     "name": "stdout",
     "output_type": "stream",
     "text": [
      "                                                        0    \\\n",
      "names                                                   940   \n",
      "metadata  {'id': 940, 'ethnicity': 'Caucasian', 'gender'...   \n",
      "samples   {'id': '940', 'otu_ids': [1167, 2859, 482, 226...   \n",
      "\n",
      "                                                        1    \\\n",
      "names                                                   941   \n",
      "metadata  {'id': 941, 'ethnicity': 'Caucasian/Midleaster...   \n",
      "samples   {'id': '941', 'otu_ids': [2722, 944, 2419, 253...   \n",
      "\n",
      "                                                        2    \\\n",
      "names                                                   943   \n",
      "metadata  {'id': 943, 'ethnicity': 'Caucasian', 'gender'...   \n",
      "samples   {'id': '943', 'otu_ids': [1795], 'sample_value...   \n",
      "\n",
      "                                                        3    \\\n",
      "names                                                   944   \n",
      "metadata  {'id': 944, 'ethnicity': 'European', 'gender':...   \n",
      "samples   {'id': '944', 'otu_ids': [922, 3555, 943, 1013...   \n",
      "\n",
      "                                                        4    \\\n",
      "names                                                   945   \n",
      "metadata  {'id': 945, 'ethnicity': 'Caucasian', 'gender'...   \n",
      "samples   {'id': '945', 'otu_ids': [944, 1795, 922, 2419...   \n",
      "\n",
      "                                                        5    \\\n",
      "names                                                   946   \n",
      "metadata  {'id': 946, 'ethnicity': 'Caucasian', 'gender'...   \n",
      "samples   {'id': '946', 'otu_ids': [1167, 2859, 2011, 41...   \n",
      "\n",
      "                                                        6    \\\n",
      "names                                                   947   \n",
      "metadata  {'id': 947, 'ethnicity': 'Caucasian', 'gender'...   \n",
      "samples   {'id': '947', 'otu_ids': [2419, 2722, 2859, 94...   \n",
      "\n",
      "                                                        7    \\\n",
      "names                                                   948   \n",
      "metadata  {'id': 948, 'ethnicity': 'Caucasian', 'gender'...   \n",
      "samples   {'id': '948', 'otu_ids': [728, 922, 2722, 943,...   \n",
      "\n",
      "                                                        8    \\\n",
      "names                                                   949   \n",
      "metadata  {'id': 949, 'ethnicity': 'Caucasian', 'gender'...   \n",
      "samples   {'id': '949', 'otu_ids': [2419, 944, 1795], 's...   \n",
      "\n",
      "                                                        9    ...  \\\n",
      "names                                                   950  ...   \n",
      "metadata  {'id': 950, 'ethnicity': 'Caucasian', 'gender'...  ...   \n",
      "samples   {'id': '950', 'otu_ids': [1795, 922, 944, 3360...  ...   \n",
      "\n",
      "                                                        143  \\\n",
      "names                                                  1562   \n",
      "metadata  {'id': 1562, 'ethnicity': 'Caucasian', 'gender...   \n",
      "samples   {'id': '1562', 'otu_ids': [944, 1795, 922, 930...   \n",
      "\n",
      "                                                        144  \\\n",
      "names                                                  1563   \n",
      "metadata  {'id': 1563, 'ethnicity': 'Caucasian', 'gender...   \n",
      "samples   {'id': '1563', 'otu_ids': [3476, 922, 943, 308...   \n",
      "\n",
      "                                                        145  \\\n",
      "names                                                  1564   \n",
      "metadata  {'id': 1564, 'ethnicity': 'Caucasian', 'gender...   \n",
      "samples   {'id': '1564', 'otu_ids': [1795, 3064, 944, 15...   \n",
      "\n",
      "                                                        146  \\\n",
      "names                                                  1572   \n",
      "metadata  {'id': 1572, 'ethnicity': 'Caucasian', 'gender...   \n",
      "samples   {'id': '1572', 'otu_ids': [1167, 482, 3643, 13...   \n",
      "\n",
      "                                                        147  \\\n",
      "names                                                  1573   \n",
      "metadata  {'id': 1573, 'ethnicity': 'Caucasian', 'gender...   \n",
      "samples   {'id': '1573', 'otu_ids': [922, 2419, 1453, 17...   \n",
      "\n",
      "                                                        148  \\\n",
      "names                                                  1574   \n",
      "metadata  {'id': 1574, 'ethnicity': 'Caucasian', 'gender...   \n",
      "samples   {'id': '1574', 'otu_ids': [482, 909, 2419, 944...   \n",
      "\n",
      "                                                        149  \\\n",
      "names                                                  1576   \n",
      "metadata  {'id': 1576, 'ethnicity': 'Caucasian', 'gender...   \n",
      "samples   {'id': '1576', 'otu_ids': [1929, 1770, 1926, 1...   \n",
      "\n",
      "                                                        150  \\\n",
      "names                                                  1577   \n",
      "metadata  {'id': 1577, 'ethnicity': 'Caucasian', 'gender...   \n",
      "samples   {'id': '1577', 'otu_ids': [922, 1795, 151, 318...   \n",
      "\n",
      "                                                        151  \\\n",
      "names                                                  1581   \n",
      "metadata  {'id': 1581, 'ethnicity': 'Asian(American)', '...   \n",
      "samples   {'id': '1581', 'otu_ids': [1795, 3312, 1399, 3...   \n",
      "\n",
      "                                                        152  \n",
      "names                                                  1601  \n",
      "metadata  {'id': 1601, 'ethnicity': 'Caucasian', 'gender...  \n",
      "samples   {'id': '1601', 'otu_ids': [1929, 3030, 1795, 8...  \n",
      "\n",
      "[3 rows x 153 columns]\n"
     ]
    }
   ],
   "source": [
    "#Read samples.JSON \n",
    "json = pd.read_json('/Users/hannaholson/Desktop/du-virt-data-pt-03-2021-u-c/15-Interactive-Visualizations-and-Dashboards/HW/Instructions/data/samples.json')\n",
    "\n",
    "#Organize DataFrame to View Keys\n",
    "json = dict(json)\n",
    "json_df = pd.DataFrame.from_dict(json,orient='index')\n",
    "pd.options.display.max_rows = 50\n",
    "pd.options.display.float_format = '{:,.0f}'.format\n",
    "\n",
    "#Print DataFrame\n",
    "print(json_df)"
   ]
  },
  {
   "cell_type": "code",
   "execution_count": 16,
   "metadata": {},
   "outputs": [
    {
     "name": "stdout",
     "output_type": "stream",
     "text": [
      "        0\n",
      "0     940\n",
      "1     941\n",
      "2     943\n",
      "3     944\n",
      "4     945\n",
      "..    ...\n",
      "148  1574\n",
      "149  1576\n",
      "150  1577\n",
      "151  1581\n",
      "152  1601\n",
      "\n",
      "[153 rows x 1 columns]\n"
     ]
    }
   ],
   "source": [
    "#Make DataFrame to hold Names\n",
    "#Organize with Index\n",
    "names = dict(json['names'])\n",
    "names_df = pd.DataFrame.from_dict(names,orient = 'index')\n",
    "\n",
    "#Print DataFrame\n",
    "print(names_df)"
   ]
  },
  {
   "cell_type": "code",
   "execution_count": 17,
   "metadata": {},
   "outputs": [
    {
     "name": "stdout",
     "output_type": "stream",
     "text": [
      "       id              ethnicity gender  age         location bbtype  wfreq\n",
      "0     940              Caucasian      F   24      Beaufort/NC      I      2\n",
      "1     941  Caucasian/Midleastern      F   34       Chicago/IL      I      1\n",
      "2     943              Caucasian      F   49         Omaha/NE      I      1\n",
      "3     944               European      M   44      NewHaven/CT      I      1\n",
      "4     945              Caucasian      F   48  Philidelphia/PA      I      1\n",
      "..    ...                    ...    ...  ...              ...    ...    ...\n",
      "148  1574              Caucasian      M   30               OK      I      7\n",
      "149  1576              Caucasian      F   33               NC      I      0\n",
      "150  1577              Caucasian      M   26               NC      I      0\n",
      "151  1581        Asian(American)      F   22               NC      I      2\n",
      "152  1601              Caucasian      F   22               NC      I      2\n",
      "\n",
      "[153 rows x 7 columns]\n"
     ]
    }
   ],
   "source": [
    "#Make DataFrame to hold MetaData\n",
    "#Organize with Index\n",
    "metadata = dict(json['metadata'])\n",
    "metadata_df = pd.DataFrame.from_dict(metadata,orient = 'index')\n",
    "\n",
    "#Print DataFrame\n",
    "print(metadata_df)"
   ]
  },
  {
   "cell_type": "code",
   "execution_count": 22,
   "metadata": {},
   "outputs": [
    {
     "name": "stdout",
     "output_type": "stream",
     "text": [
      "    otu_ids  sample_values                                         otu_labels\n",
      "0      1167            163  Bacteria;Bacteroidetes;Bacteroidia;Bacteroidal...\n",
      "1      2859            126  Bacteria;Firmicutes;Clostridia;Clostridiales;I...\n",
      "2       482            113                                           Bacteria\n",
      "3      2264             78  Bacteria;Firmicutes;Clostridia;Clostridiales;I...\n",
      "4        41             71                                           Bacteria\n",
      "..      ...            ...                                                ...\n",
      "75      340              2                                           Bacteria\n",
      "76     2110              2       Bacteria;Firmicutes;Clostridia;Clostridiales\n",
      "77     2188              2  Bacteria;Firmicutes;Clostridia;Clostridiales;I...\n",
      "78      357              2                                           Bacteria\n",
      "79      342              2                                           Bacteria\n",
      "\n",
      "[80 rows x 3 columns]\n"
     ]
    }
   ],
   "source": [
    "#Make DataFrame to hold Samples\n",
    "#Organize with Index\n",
    "samples = dict(json['samples'])\n",
    "samples_df = pd.DataFrame.from_dict(samples,orient = 'index')\n",
    "\n",
    "#Narrow Down Columns to Pull\n",
    "samples_otu_ids = json['samples'][0]['otu_ids']\n",
    "samples_sample_values = json['samples'][0]['sample_values']\n",
    "samples_otu_labels = json['samples'][0]['otu_labels']\n",
    "samples_df = pd.DataFrame(list(zip(samples_otu_ids, samples_sample_values, samples_otu_labels)), columns = ['otu_ids', 'sample_values', 'otu_labels'])\n",
    "\n",
    "#Print DataFrame\n",
    "print(samples_df)"
   ]
  },
  {
   "cell_type": "code",
   "execution_count": 23,
   "metadata": {},
   "outputs": [
    {
     "name": "stdout",
     "output_type": "stream",
     "text": [
      "    otu_ids  sample_values                                         otu_labels\n",
      "0      1167            163  Bacteria;Bacteroidetes;Bacteroidia;Bacteroidal...\n",
      "1      2859            126  Bacteria;Firmicutes;Clostridia;Clostridiales;I...\n",
      "2       482            113                                           Bacteria\n",
      "3      2264             78  Bacteria;Firmicutes;Clostridia;Clostridiales;I...\n",
      "4        41             71                                           Bacteria\n",
      "..      ...            ...                                                ...\n",
      "75      340              2                                           Bacteria\n",
      "76     2110              2       Bacteria;Firmicutes;Clostridia;Clostridiales\n",
      "77     2188              2  Bacteria;Firmicutes;Clostridia;Clostridiales;I...\n",
      "78      357              2                                           Bacteria\n",
      "79      342              2                                           Bacteria\n",
      "\n",
      "[80 rows x 3 columns]\n"
     ]
    }
   ],
   "source": [
    "df_dict = {}\n",
    "\n",
    "for i in range(len(json['samples'])):\n",
    "    samples_otu_ids = json['samples'][i]['otu_ids']\n",
    "    samples_sample_values = json['samples'][i]['sample_values']\n",
    "    samples_otu_labels = json['samples'][i]['otu_labels']\n",
    "    df_dict['df%s' %i] = pd.DataFrame(list(zip(samples_otu_ids, samples_sample_values, samples_otu_labels)), columns = ['otu_ids', 'sample_values', 'otu_labels'])\n",
    "\n",
    "print(samples_df)    "
   ]
  },
  {
   "cell_type": "code",
   "execution_count": null,
   "metadata": {},
   "outputs": [],
   "source": []
  },
  {
   "cell_type": "code",
   "execution_count": null,
   "metadata": {},
   "outputs": [],
   "source": []
  }
 ],
 "metadata": {
  "kernelspec": {
   "display_name": "Python 3",
   "language": "python",
   "name": "python3"
  },
  "language_info": {
   "codemirror_mode": {
    "name": "ipython",
    "version": 3
   },
   "file_extension": ".py",
   "mimetype": "text/x-python",
   "name": "python",
   "nbconvert_exporter": "python",
   "pygments_lexer": "ipython3",
   "version": "3.8.5"
  }
 },
 "nbformat": 4,
 "nbformat_minor": 4
}
